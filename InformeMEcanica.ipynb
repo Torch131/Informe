{
  "nbformat": 4,
  "nbformat_minor": 0,
  "metadata": {
    "colab": {
      "provenance": [],
      "authorship_tag": "ABX9TyNo1sJjnd4fjTG9MJMzHGvU",
      "include_colab_link": true
    },
    "kernelspec": {
      "name": "python3",
      "display_name": "Python 3"
    },
    "language_info": {
      "name": "python"
    }
  },
  "cells": [
    {
      "cell_type": "markdown",
      "metadata": {
        "id": "view-in-github",
        "colab_type": "text"
      },
      "source": [
        "<a href=\"https://colab.research.google.com/github/Torch131/Informe/blob/main/InformeMEcanica.ipynb\" target=\"_parent\"><img src=\"https://colab.research.google.com/assets/colab-badge.svg\" alt=\"Open In Colab\"/></a>"
      ]
    },
    {
      "cell_type": "code",
      "source": [
        "import math\n",
        "\n",
        "def fisica(V_Inicial, V_Final, T_1, T_2, Aceleracion, A_Inicial, Tipo_calculo):\n",
        "    # Función para realizar cálculos de física\n",
        "\n",
        "    resultado = \"\"  # Variable para almacenar el resultado\n",
        "\n",
        "    if Tipo_calculo == \"Calcular desplazamiento\":\n",
        "        # Si el tipo de cálculo es \"Calcular desplazamiento\"\n",
        "        \n",
        "        V_Final = V_Inicial + (Aceleracion * T_1)  # Calcular velocidad final\n",
        "        desplazamiento = (V_Inicial * T_1) + (0.5 * Aceleracion * T_1**2)  # Calcular desplazamiento\n",
        "\n",
        "        resultado = f\"Velocidad final: {V_Final} m/s\\n\"  # Almacenar el resultado de la velocidad final\n",
        "        resultado += f\"Desplazamiento: {desplazamiento} metros\"  # Almacenar el resultado del desplazamiento\n",
        "\n",
        "    elif Tipo_calculo == \"Tiempo de caída\":\n",
        "        # Si el tipo de cálculo es \"Tiempo de caída\"\n",
        "        \n",
        "        V_Final = math.sqrt(2 * Aceleracion * A_Inicial)  # Calcular velocidad final\n",
        "        tiempo_caída = math.sqrt((2 * A_Inicial) / Aceleracion)  # Calcular tiempo de caída\n",
        "\n",
        "        resultado = f\"Velocidad final: {V_Final} m/s\\n\"  # Almacenar el resultado de la velocidad final\n",
        "        resultado += f\"Tiempo de caída: {tiempo_caída} segundos\"  # Almacenar el resultado del tiempo de caída\n",
        "\n",
        "    elif Tipo_calculo == \"Calcular a dos tiempos\":\n",
        "        # Si el tipo de cálculo es \"Calcular a dos tiempos\"\n",
        "        \n",
        "        V_Final = V_Inicial + (Aceleracion * T_2)  # Calcular velocidad final\n",
        "        desplazamiento_1 = V_Inicial * T_1  # Calcular desplazamiento en el tiempo 1\n",
        "        desplazamiento_2 = (V_Inicial * T_2) + (0.5 * Aceleracion * T_2**2)  # Calcular desplazamiento en el tiempo 2\n",
        "        desplazamiento_total = desplazamiento_1 + desplazamiento_2  # Calcular desplazamiento total\n",
        "\n",
        "        resultado = f\"Velocidad final: {V_Final} m/s\\n\"  # Almacenar el resultado de la velocidad final\n",
        "        resultado += f\"Desplazamiento total: {desplazamiento_total} metros\"  # Almacenar el resultado del desplazamiento total\n",
        "\n",
        "    elif Tipo_calculo == \"Altura máxima\":\n",
        "        # Si el tipo de cálculo es \"Altura máxima\"\n",
        "        \n",
        "        tiempo_alcanzar_altura_maxima = -V_Inicial / Aceleracion  # Calcular tiempo para alcanzar altura máxima\n",
        "        altura_maxima = (V_Inicial ** 2) / (2 * abs(Aceleracion))  # Calcular altura máxima\n",
        "\n",
        "        resultado = f\"Altura máxima alcanzada: {altura_maxima} metros\\n\"  # Almacenar el resultado de la altura máxima\n",
        "        resultado += f\"Tiempo para alcanzar la altura máxima: {tiempo_alcanzar_altura_maxima} segundos\"  # Almacenar el resultado del tiempo para alcanzar altura máxima\n",
        "\n",
        "    else:\n",
        "        resultado = \"Tipo de cálculo inválido\"  # Mensaje de error si el tipo de cálculo no es válido\n",
        "\n",
        "    return resultado\n",
        "\n",
        "# Ejemplo de uso de la función\n",
        "resultado = fisica(20, 0, 0, 0, -9.8, 0, \"Altura máxima\")\n",
        "print(resultado)"
      ],
      "metadata": {
        "colab": {
          "base_uri": "https://localhost:8080/"
        },
        "id": "oEwsao67ye4R",
        "outputId": "3742c783-5600-45d8-cbc7-4f086b7210be"
      },
      "execution_count": null,
      "outputs": [
        {
          "output_type": "stream",
          "name": "stdout",
          "text": [
            "Altura máxima alcanzada: 20.408163265306122 metros\n",
            "Tiempo para alcanzar la altura máxima: 2.0408163265306123 segundos\n"
          ]
        }
      ]
    }
  ]
}